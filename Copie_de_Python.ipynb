{
  "nbformat": 4,
  "nbformat_minor": 0,
  "metadata": {
    "colab": {
      "provenance": [],
      "authorship_tag": "ABX9TyOQDfOI/ZXUelqqmgwABMB/",
      "include_colab_link": true
    },
    "kernelspec": {
      "name": "python3",
      "display_name": "Python 3"
    },
    "language_info": {
      "name": "python"
    }
  },
  "cells": [
    {
      "cell_type": "markdown",
      "metadata": {
        "id": "view-in-github",
        "colab_type": "text"
      },
      "source": [
        "<a href=\"https://colab.research.google.com/github/dialloalassane/3Blue1Brown.com/blob/main/Copie_de_Python.ipynb\" target=\"_parent\"><img src=\"https://colab.research.google.com/assets/colab-badge.svg\" alt=\"Open In Colab\"/></a>"
      ]
    },
    {
      "cell_type": "markdown",
      "source": [
        "\n",
        "#<font color=red>Pyhon Expert</font>\n",
        "## Write a short program that takes as input three integers, $a, b$, and $c$, from the console and determines if they can be used in a correct arithmetic formula (in the given order), like \" $a+b=c, \"$ \" $a=b-c$,\" or \" $a * b=c$.\"\n",
        "\n",
        "\n",
        "\n",
        "\n",
        "\n"
      ],
      "metadata": {
        "id": "JwQvzPaQjJNB"
      }
    },
    {
      "cell_type": "code",
      "source": [],
      "metadata": {
        "id": "_ofUzymIjsb_"
      },
      "execution_count": null,
      "outputs": []
    },
    {
      "cell_type": "markdown",
      "source": [
        "\n",
        "#<font color=red>Pyhon Expert</font>\n",
        "\n",
        "##Give a concrete implementation of the items () method in the context of the MutableMapping class, relying only on the five primary abstract methods of that class. What would its running time be if directly applied to the UnsortedTableMap subclass?"
      ],
      "metadata": {
        "id": "AvTs5DLHkVQk"
      }
    },
    {
      "cell_type": "code",
      "source": [],
      "metadata": {
        "id": "5UvoOThSkYaI"
      },
      "execution_count": null,
      "outputs": []
    },
    {
      "cell_type": "markdown",
      "source": [
        "# <font color = red > Python Expert <font color >\n",
        "##The birthday paradox says that the probability that two people in a room will have the same birthday is more than half, provided $n$, the number of people in the room, is more than 23 . This property is not really a paradox, but many people find it surprising. Design a Python program that can test this paradox by a series of experiments on randomly generated birthdays, which test this paradox for $n=5,10,15,20, \\ldots, 100$."
      ],
      "metadata": {
        "id": "C6IpNSgNk5O4"
      }
    },
    {
      "cell_type": "code",
      "source": [],
      "metadata": {
        "id": "eKvsrzqfk6jt"
      },
      "execution_count": null,
      "outputs": []
    },
    {
      "cell_type": "markdown",
      "source": [
        "#<font color =red > Python Expert <font color>\n",
        "\n",
        "##Design an experimental comparison of repeated DFS traversals versus the Floyd-Warshall algorithm for computing the transitive closure of a directed graph."
      ],
      "metadata": {
        "id": "Z5-6qqYqlvv_"
      }
    },
    {
      "cell_type": "code",
      "source": [],
      "metadata": {
        "id": "LroZ3SEhlvjK"
      },
      "execution_count": null,
      "outputs": []
    }
  ]
}